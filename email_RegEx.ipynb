{
 "cells": [
  {
   "cell_type": "code",
   "execution_count": 6,
   "id": "424a21ff-a4b4-49d0-b676-da209b2f4b67",
   "metadata": {},
   "outputs": [
    {
     "name": "stdin",
     "output_type": "stream",
     "text": [
      "Enter your Email :- abc.xyz12@gmail.com\n"
     ]
    },
    {
     "name": "stdout",
     "output_type": "stream",
     "text": [
      "Right Email Verified\n"
     ]
    }
   ],
   "source": [
    "\"\"\"\n",
    "Conditions to be set for right  email id-\n",
    "    1.Letters should be in lowercase only(a-z) and should always start with letter only\n",
    "    2.(.,_,@)-should only occur 1 time\n",
    "    3.Position of (.) should be 2,3 from end\n",
    "\n",
    "RegEx (Regular Expression used)-\n",
    "     ^ - start of search \n",
    "    [] - consist of set of characters that u wish to match\n",
    "    +  - join the conditions\n",
    "    \\  - will search for any character in the string\n",
    "    ?  - checks for 1 time occurance of any char in the string.Returns (F)0-if occured more than 1 time,(T)1-if occured only 1 time \n",
    "    \\w - search for special character in the string\n",
    "    {} - when we want to search for any char at a particular position\n",
    "    $  -  to search for any character from end\"\"\"\n",
    "import re\n",
    "email_condition=\"^[a-z]+[\\._]?[a-z 0-9]+[@]\\w+[.]\\w{2,3}$\"\n",
    "user_email=input(\"Enter your Email :-\")\n",
    "if re.search(email_condition,user_email):\n",
    "    print(\"Right Email Verified\")\n",
    "else:\n",
    "    print(\"Incorrect Email Id\")\n"
   ]
  },
  {
   "cell_type": "code",
   "execution_count": null,
   "id": "9c1f2b7c-475e-455a-bfc5-6aa361adb69e",
   "metadata": {},
   "outputs": [],
   "source": []
  }
 ],
 "metadata": {
  "kernelspec": {
   "display_name": "Python 3 (ipykernel)",
   "language": "python",
   "name": "python3"
  },
  "language_info": {
   "codemirror_mode": {
    "name": "ipython",
    "version": 3
   },
   "file_extension": ".py",
   "mimetype": "text/x-python",
   "name": "python",
   "nbconvert_exporter": "python",
   "pygments_lexer": "ipython3",
   "version": "3.11.7"
  }
 },
 "nbformat": 4,
 "nbformat_minor": 5
}
