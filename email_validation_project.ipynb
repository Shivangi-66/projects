{
 "cells": [
  {
   "cell_type": "code",
   "execution_count": 16,
   "id": "8cbfb768-fe01-44dc-988d-63ee2fd1c05a",
   "metadata": {},
   "outputs": [
    {
     "name": "stdin",
     "output_type": "stream",
     "text": [
      "Enter email id- abcd.xyz_@gmail.com\n"
     ]
    },
    {
     "name": "stdout",
     "output_type": "stream",
     "text": [
      "Right Email verified - abcd.xyz_@gmail.com\n"
     ]
    }
   ],
   "source": [
    "# Email validation in python using STRING\n",
    "\n",
    "email=input(\"Enter email id-\")                              # eg:- shivangi00@gmail.com\n",
    "k,j,d=0,0,0                                                 # default value is set as 0\n",
    "if len(email)>=6:                                           # email having less than 6 letters are not considered as valid email\n",
    "    if email[0].isalpha():                                  # email should always start with a letter only i,e [0] index\n",
    "        if ('@' in email) and (email.count('@')==1):        # only one '@' should be present..and-T,T=T \n",
    "            if (email[-4]=='.') ^ (email[-3]=='.'):         # [-4] for(.com),[-3] for (.in/.co) XOR operator..tt-(f),ff-(f),tf-(t),ft-(t)\n",
    "                for i in email:                             # i means each letter iteration in email\n",
    "                    if i==i.isspace():                      # this will check for spaces (which are not allowed)\n",
    "                        k=1                                 # if spaces are there than k=1 which is wrong email 5\n",
    "                    elif i.isalpha():                       # it will check that the email has letters or not\n",
    "                        if i==i.upper():                    # if it has letters than will check for upper case (which is not allowed)\n",
    "                            j=1                             # if upper case than j=1 i.e, wrong email 5\n",
    "                    elif i.isdigit():                       # if it is a digit than continue\n",
    "                        continue\n",
    "                    elif i=='_' or i=='.' or i=='@':        # if there is any other sign like .,_,@  than it will continue\n",
    "                        continue\n",
    "                    else:                                   # apart from the above sign if there is any other sign in the mail than d=1 i.e, wrong email5\n",
    "                        d=1\n",
    "                if k==1 or j==1 or d==1:                    # wrong email for above cases\n",
    "                    print(\"Wrong email 5\")\n",
    "                else:\n",
    "                    print(f'Right Email verified - {email}')\n",
    "            else:\n",
    "                print(\" Wrong email 4\")\n",
    "        else:\n",
    "            print(\"Wrong email 3\")\n",
    "    else:\n",
    "        print(\"Wrong email 2\")\n",
    "else:\n",
    "    print(\"Wrong email 1\")"
   ]
  },
  {
   "cell_type": "code",
   "execution_count": null,
   "id": "10a40262-655a-4da1-accb-07a214c16a7e",
   "metadata": {},
   "outputs": [],
   "source": []
  }
 ],
 "metadata": {
  "kernelspec": {
   "display_name": "Python 3 (ipykernel)",
   "language": "python",
   "name": "python3"
  },
  "language_info": {
   "codemirror_mode": {
    "name": "ipython",
    "version": 3
   },
   "file_extension": ".py",
   "mimetype": "text/x-python",
   "name": "python",
   "nbconvert_exporter": "python",
   "pygments_lexer": "ipython3",
   "version": "3.11.7"
  }
 },
 "nbformat": 4,
 "nbformat_minor": 5
}
